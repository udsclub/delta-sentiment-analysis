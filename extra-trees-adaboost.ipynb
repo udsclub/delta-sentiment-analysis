{
 "cells": [
  {
   "cell_type": "code",
   "execution_count": null,
   "metadata": {
    "collapsed": true
   },
   "outputs": [],
   "source": [
    "import os\n",
    "import re\n",
    "import string\n",
    "\n",
    "import pandas as pd\n",
    "from sklearn.ensemble import AdaBoostClassifier\n",
    "from sklearn.ensemble import ExtraTreesClassifier\n",
    "from sklearn.model_selection import train_test_split\n",
    "from nltk.corpus import stopwords\n",
    "from nltk.stem import SnowballStemmer\n",
    "from sklearn.feature_extraction.text import TfidfVectorizer, CountVectorizer\n",
    "from nltk.tokenize import word_tokenize\n",
    "from sklearn.externals import joblib"
   ]
  },
  {
   "cell_type": "code",
   "execution_count": null,
   "metadata": {},
   "outputs": [],
   "source": [
    "def is_english(s):\n",
    "    words = s.split()\n",
    "    non_english = 0\n",
    "    for w in words:\n",
    "        try:\n",
    "            w.encode('ascii')\n",
    "        except UnicodeEncodeError:\n",
    "            non_english += 1\n",
    "    return True if non_english*1.0/len(words) <= 0.05 else False\n",
    "\n",
    "\n",
    "def tokenize_text(review):\n",
    "    word_list = word_tokenize(review)\n",
    "    stemmer = SnowballStemmer(\"english\")\n",
    "    word_list = [stemmer.stem(word) for word in word_list]\n",
    "    return word_list"
   ]
  },
  {
   "cell_type": "code",
   "execution_count": null,
   "metadata": {},
   "outputs": [],
   "source": [
    "df1 = pd.read_table('reviews_rt_all.csv', header=0, error_bad_lines=False, delimiter='|')\n",
    "df1.drop_duplicates(subset=['text'], inplace=True)\n",
    "\n",
    "print(len(df1.index))\n",
    "df1 = df1[df1['text'].apply(is_english)]\n",
    "print(len(df1.index))\n",
    "\n",
    "train1, test1 = train_test_split(df1, test_size=0.2, random_state=111)\n",
    "\n",
    "train_text1 = train1['text']\n",
    "test_text1 = test1['text']"
   ]
  },
  {
   "cell_type": "code",
   "execution_count": null,
   "metadata": {},
   "outputs": [],
   "source": [
    "stop_words_set = set(stopwords.words('english') + list(string.punctuation))\n",
    "# stop_words_set = set(stopwords.words('english'))\n",
    "\n",
    "vectorizer = TfidfVectorizer(tokenizer=tokenize_text,\n",
    "                             stop_words=stop_words_set,\n",
    "                             lowercase=True,\n",
    "                             max_features=20000)\n",
    "X_train_features1 = vectorizer.fit_transform(train_text1)\n",
    "\n",
    "print(vectorizer.get_feature_names())"
   ]
  },
  {
   "cell_type": "code",
   "execution_count": null,
   "metadata": {},
   "outputs": [],
   "source": [
    "# clf = ExtraTreesClassifier(n_estimators=100,\n",
    "#                            # min_samples_leaf=10,\n",
    "#                            # max_features=200,\n",
    "#                            random_state=49, verbose=2)\n",
    "clf = AdaBoostClassifier(n_estimators=2000,\n",
    "                         # learning_rate=0.2,\n",
    "                           random_state=49)\n",
    "clf.fit(X_train_features1, train1['label'])\n",
    "\n",
    "print('random forest trained')\n",
    "\n",
    "print(\"Accuracy train: \",clf.score(X_train_features1, train1['label']))\n",
    "print(\"Accuracy test: \",clf.score(X_test_features1, test1['label']))"
   ]
  },
  {
   "cell_type": "code",
   "execution_count": null,
   "outputs": [],
   "source": [
    ""
   ]
  }
 ],
 "metadata": {
  "kernelspec": {
   "display_name": "Python 2",
   "language": "python",
   "name": "python2"
  },
  "language_info": {
   "codemirror_mode": {
    "name": "ipython",
    "version": 2.0
   },
   "file_extension": ".py",
   "mimetype": "text/x-python",
   "name": "python",
   "nbconvert_exporter": "python",
   "pygments_lexer": "ipython2",
   "version": "2.7.6"
  }
 },
 "nbformat": 4,
 "nbformat_minor": 0
}